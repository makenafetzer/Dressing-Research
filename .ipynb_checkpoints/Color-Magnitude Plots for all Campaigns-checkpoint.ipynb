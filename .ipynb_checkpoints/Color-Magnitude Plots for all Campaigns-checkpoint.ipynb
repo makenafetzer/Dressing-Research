{
 "cells": [
  {
   "cell_type": "code",
   "execution_count": 15,
   "metadata": {},
   "outputs": [],
   "source": [
    "%matplotlib inline\n",
    "import pandas as pd\n",
    "import numpy as np\n",
    "import matplotlib.pyplot as plt\n",
    "import pdb\n",
    "import astropy.units as u\n",
    "import glob\n",
    "import os\n",
    "import subprocess"
   ]
  },
  {
   "cell_type": "markdown",
   "metadata": {},
   "source": [
    "# Initialize Functions that Save and Show CM plots"
   ]
  },
  {
   "cell_type": "markdown",
   "metadata": {},
   "source": [
    "Functions Below are initialized to make a color magnitude graphs based on stellar surface gravity and stellar temperature"
   ]
  },
  {
   "cell_type": "code",
   "execution_count": 16,
   "metadata": {},
   "outputs": [],
   "source": [
    "def make_logg_CM(campaign, proposal, folder):\n",
    "    \"\"\"\n",
    "    proposal should be entered as an int\n",
    "    campaign and folder are strings\n",
    "    \"\"\"\n",
    "    df_all = pd.read_csv('csv_files/%s/master_search.csv' %campaign, low_memory=False)\n",
    "\n",
    "    df_big_proposal = pd.read_csv('csv_files/%s/big_targets/prop_%d.csv' %(campaign, proposal), low_memory=False, error_bad_lines=False)\n",
    "    #Would want the above line to cycle through big_targets\n",
    "\n",
    "    prop_id = df_big_proposal['EPIC ID']\n",
    "    df_all = df_all.merge(df_big_proposal, left_on='EPIC', right_on='EPIC ID', how='inner')\n",
    "\n",
    "    ww = np.where(df_all['Object type'] == 'STAR')\n",
    "    df_all = df_all.iloc[ww]\n",
    "\n",
    "    #initializing the data frame for calculating reduced proper motion\n",
    "    df_pm = pd.DataFrame(columns=['Jmag','Hmag','KepMag','pmra','pmdec',\n",
    "    'pm','j_min_h','H', 'logg'])\n",
    "\n",
    "    df_pm['Jmag'] = df_all['Jmag']\n",
    "    df_pm['Hmag'] = df_all['Hmag']\n",
    "    df_pm['logg'] = df_all['logg']\n",
    "\n",
    "    #Removing any row that doesn't have a Jmag and Hmag value\n",
    "    df_pm = df_pm.dropna(axis=0, subset=['Jmag','Hmag'], how='any')\n",
    "\n",
    "    df_pm['KepMag'] = df_all['KepMag']\n",
    "    df_pm['pmra'] = df_all['pmra']\n",
    "    df_pm['pmdec'] = df_all['pmdec']\n",
    "\n",
    "    df_pm['j_min_h'] = df_pm['Jmag'] - df_pm['Hmag']\n",
    "\n",
    "    #Need to calculate reduced proper motion make sure to add in quadrature\n",
    "    #H = m + 5log(mu) + 5 (y-axis)\n",
    "    df_pm = df_pm.dropna(axis=0, subset=['KepMag','pmra','pmdec'], how='any')\n",
    "    \n",
    "    #Sometimes proposals don't have any stars, despite being large so we return early if empty so no empty plots are made\n",
    "    if df_pm.empty:\n",
    "        return\n",
    "\n",
    "    #use pmra and pmdec to get a total pm and conver mas/yr to arcsec/yr\n",
    "    df_pm['pm'] = np.sqrt((((1/1000)*df_pm['pmra'])**2) + (((1/1000)*df_pm['pmdec'])**2))\n",
    "\n",
    "    #pm is in mas/year so multiply by 1000\n",
    "    df_pm['J'] = 5 + df_pm['Jmag'] + (5*(np.log(df_pm['pm'])))\n",
    "\n",
    "    J = df_pm['J']\n",
    "    j_min_h = df_pm['j_min_h']\n",
    "\n",
    "    dd = np.where(df_pm['logg'] >= 4.0)\n",
    "    gg = np.where(df_pm['logg'] <= 3.0)\n",
    "    m = np.where(np.logical_and(df_pm['logg'] > 3.0, df_pm['logg'] < 4.0))\n",
    "    \n",
    "    #Change the line below for dwarfs and giants\n",
    "    giants = df_pm.iloc[gg]\n",
    "    dwarfs = df_pm.iloc[dd]\n",
    "    mid = df_pm.iloc[m]\n",
    "\n",
    "    J_gg = giants['J']\n",
    "    j_min_h_gg = giants['j_min_h']\n",
    "\n",
    "    J_dd = dwarfs['J']\n",
    "    j_min_h_dd = dwarfs['j_min_h']\n",
    "\n",
    "    J_mid = mid['J']\n",
    "    j_min_h_mid = mid['j_min_h']\n",
    "\n",
    "    plt.plot(j_min_h_dd, J_dd, '.', c='blue', alpha=0.3, label='dwarf')\n",
    "    plt.plot(j_min_h_gg, J_gg, '.', c='green', alpha=0.3, label='giant')\n",
    "    plt.plot(j_min_h_mid, J_mid, '.', c='yellow', alpha=0.3, label='mid')\n",
    "    plt.ylim(reversed(plt.ylim()))\n",
    "    plt.xlabel('J - H')\n",
    "    plt.ylabel('J')\n",
    "    plt.grid(True)\n",
    "    plt.title('Campaign %s, Proposal %d' %(campaign, proposal))\n",
    "    plt.legend(numpoints = 1)\n",
    "    plt.savefig('graphs/%s/%s/%d_color_mag_colorized' %(campaign, folder, proposal))\n",
    "    plt.show()"
   ]
  },
  {
   "cell_type": "code",
   "execution_count": 17,
   "metadata": {},
   "outputs": [],
   "source": [
    "def make_temp_CM(campaign, proposal, folder):\n",
    "    \"\"\"\n",
    "    proposal should be entered as an int\n",
    "    campaign and folder are strings\n",
    "    \"\"\"\n",
    "    df_all = pd.read_csv('csv_files/%s/master_search.csv' %campaign, low_memory=False)\n",
    "    \n",
    "    #Would want the above line to cycle through big_targets\n",
    "    df_big_proposal = pd.read_csv('csv_files/%s/big_targets/prop_%d.csv' %(campaign, proposal), low_memory=False)\n",
    "\n",
    "    prop_id = df_big_proposal['EPIC ID']\n",
    "    df_all = df_all.merge(df_big_proposal, left_on='EPIC', right_on='EPIC ID', how='inner')\n",
    "\n",
    "    ww = np.where(df_all['Object type'] == 'STAR')\n",
    "    df_all = df_all.iloc[ww]\n",
    "\n",
    "    #initializing the data frame for calculating reduced proper motion\n",
    "    df_pm = pd.DataFrame(columns=['Jmag','Hmag','KepMag','pmra','pmdec',\n",
    "    'pm','j_min_h','H', 'Teff'])\n",
    "\n",
    "    df_pm['Jmag'] = df_all['Jmag']\n",
    "    df_pm['Hmag'] = df_all['Hmag']\n",
    "    df_pm['Teff'] = df_all['Teff']\n",
    "\n",
    "\n",
    "    #Removing any row that doesn't have a Jmag and Hmag value\n",
    "    df_pm = df_pm.dropna(axis=0, subset=['Jmag','Hmag'], how='any')\n",
    "    \n",
    "    #Sometimes proposals don't have any stars, despite being large so we return early if empty so no empty plots are made\n",
    "    if df_pm.empty:\n",
    "        return\n",
    "\n",
    "    df_pm['KepMag'] = df_all['KepMag']\n",
    "    df_pm['pmra'] = df_all['pmra']\n",
    "    df_pm['pmdec'] = df_all['pmdec']\n",
    "\n",
    "    df_pm['j_min_h'] = df_pm['Jmag'] - df_pm['Hmag']\n",
    "\n",
    "    #Need to calculate reduced proper motion make sure to add in quadrature\n",
    "    #H = m + 5log(mu) + 5 (y-axis)\n",
    "    df_pm = df_pm.dropna(axis=0, subset=['KepMag','pmra','pmdec'], how='any')\n",
    "\n",
    "    #use pmra and pmdec to get a total pm and conver mas/yr to arcsec/yr\n",
    "    df_pm['pm'] = np.sqrt((((1/1000)*df_pm['pmra'])**2) + (((1/1000)*df_pm['pmdec'])**2))\n",
    "\n",
    "    #pm is in mas/year so multiply by 1000\n",
    "    df_pm['J'] = 5 + df_pm['Jmag'] + (5*(np.log(df_pm['pm'])))\n",
    "    #pdb.set_trace()\n",
    "\n",
    "    J = df_pm['J']\n",
    "    j_min_h = df_pm['j_min_h']\n",
    "\n",
    "    c = np.where(df_pm['Teff'] <= 4000)\n",
    "    h = np.where(df_pm['Teff'] >= 6000)\n",
    "    m = np.where(np.logical_and(df_pm['Teff'] > 4000, df_pm['Teff'] < 6000))\n",
    "    \n",
    "    #Change the line below for dwarfs and giants\n",
    "    cold = df_pm.iloc[c]\n",
    "    hot = df_pm.iloc[h]\n",
    "    mid = df_pm.iloc[m]\n",
    "\n",
    "    J_cold = cold['J']\n",
    "    j_min_cold = cold['j_min_h']\n",
    "\n",
    "    J_hot = hot['J']\n",
    "    j_min_hot = hot['j_min_h']\n",
    "\n",
    "    J_mid = mid['J']\n",
    "    j_min_h_mid = mid['j_min_h']\n",
    "\n",
    "    plt.plot(j_min_hot, J_hot, '.', c='blue', alpha=0.3)\n",
    "    plt.plot(j_min_cold, J_cold, '.', c='red', alpha=0.3)\n",
    "    plt.plot(j_min_h_mid, J_mid, '.', c='yellow', alpha=0.3)\n",
    "    plt.ylim(reversed(plt.ylim()))\n",
    "    plt.xlabel('J - H')\n",
    "    plt.ylabel('J')\n",
    "    plt.grid(True)\n",
    "    plt.title('Campaign %s, Proposal %d' %(campaign, proposal))\n",
    "    plt.savefig('graphs/%s/%s/%d_CM_colorized' %(campaign, folder, proposal))\n",
    "    plt.show()"
   ]
  },
  {
   "cell_type": "markdown",
   "metadata": {},
   "source": [
    "# Initialize campaign to sort through proposals"
   ]
  },
  {
   "cell_type": "code",
   "execution_count": 25,
   "metadata": {
    "scrolled": false
   },
   "outputs": [],
   "source": [
    "campaign_str = 'campaign_2'\n",
    "\n",
    "#For each big proposal in the campaign, create a df so a color-magnitude plot\n",
    "#can be made for each big df_big_proposal\n",
    "\n",
    "big_prop_list = glob.glob('csv_files/%s/big_targets/*' %campaign_str)\n",
    "temp = [x[-9:-4].replace(\"_\", \"\") for x in big_prop_list]\n",
    "props_num = []\n",
    "for i in range(len(temp)):\n",
    "    try:\n",
    "        int(temp[i][0])\n",
    "        props_num.append(temp[i])\n",
    "    except:\n",
    "        pass"
   ]
  },
  {
   "cell_type": "code",
   "execution_count": 26,
   "metadata": {},
   "outputs": [
    {
     "ename": "ParserError",
     "evalue": "Error tokenizing data. C error: Expected 61 fields in line 6738, saw 66\n",
     "output_type": "error",
     "traceback": [
      "\u001b[0;31m---------------------------------------------------------------------------\u001b[0m",
      "\u001b[0;31mParserError\u001b[0m                               Traceback (most recent call last)",
      "\u001b[0;32m<ipython-input-26-f9177242d72e>\u001b[0m in \u001b[0;36m<module>\u001b[0;34m()\u001b[0m\n\u001b[1;32m      1\u001b[0m \u001b[0;32mfor\u001b[0m \u001b[0mproposal\u001b[0m \u001b[0;32min\u001b[0m \u001b[0mprops_num\u001b[0m\u001b[0;34m:\u001b[0m\u001b[0;34m\u001b[0m\u001b[0m\n\u001b[0;32m----> 2\u001b[0;31m     \u001b[0mmake_logg_CM\u001b[0m\u001b[0;34m(\u001b[0m\u001b[0mcampaign_str\u001b[0m\u001b[0;34m,\u001b[0m \u001b[0mint\u001b[0m\u001b[0;34m(\u001b[0m\u001b[0mproposal\u001b[0m\u001b[0;34m)\u001b[0m\u001b[0;34m,\u001b[0m \u001b[0;34m'logg_colored'\u001b[0m\u001b[0;34m)\u001b[0m\u001b[0;34m\u001b[0m\u001b[0m\n\u001b[0m",
      "\u001b[0;32m<ipython-input-16-f1ab9ed5d271>\u001b[0m in \u001b[0;36mmake_logg_CM\u001b[0;34m(campaign, proposal, folder)\u001b[0m\n\u001b[1;32m      4\u001b[0m     \u001b[0mcampaign\u001b[0m \u001b[0;32mand\u001b[0m \u001b[0mfolder\u001b[0m \u001b[0mare\u001b[0m \u001b[0mstrings\u001b[0m\u001b[0;34m\u001b[0m\u001b[0m\n\u001b[1;32m      5\u001b[0m     \"\"\"\n\u001b[0;32m----> 6\u001b[0;31m     \u001b[0mdf_all\u001b[0m \u001b[0;34m=\u001b[0m \u001b[0mpd\u001b[0m\u001b[0;34m.\u001b[0m\u001b[0mread_csv\u001b[0m\u001b[0;34m(\u001b[0m\u001b[0;34m'csv_files/%s/master_search.csv'\u001b[0m \u001b[0;34m%\u001b[0m\u001b[0mcampaign\u001b[0m\u001b[0;34m,\u001b[0m \u001b[0mlow_memory\u001b[0m\u001b[0;34m=\u001b[0m\u001b[0;32mFalse\u001b[0m\u001b[0;34m)\u001b[0m\u001b[0;34m\u001b[0m\u001b[0m\n\u001b[0m\u001b[1;32m      7\u001b[0m \u001b[0;34m\u001b[0m\u001b[0m\n\u001b[1;32m      8\u001b[0m     \u001b[0mdf_big_proposal\u001b[0m \u001b[0;34m=\u001b[0m \u001b[0mpd\u001b[0m\u001b[0;34m.\u001b[0m\u001b[0mread_csv\u001b[0m\u001b[0;34m(\u001b[0m\u001b[0;34m'csv_files/%s/big_targets/prop_%d.csv'\u001b[0m \u001b[0;34m%\u001b[0m\u001b[0;34m(\u001b[0m\u001b[0mcampaign\u001b[0m\u001b[0;34m,\u001b[0m \u001b[0mproposal\u001b[0m\u001b[0;34m)\u001b[0m\u001b[0;34m,\u001b[0m \u001b[0mlow_memory\u001b[0m\u001b[0;34m=\u001b[0m\u001b[0;32mFalse\u001b[0m\u001b[0;34m,\u001b[0m \u001b[0merror_bad_lines\u001b[0m\u001b[0;34m=\u001b[0m\u001b[0;32mFalse\u001b[0m\u001b[0;34m)\u001b[0m\u001b[0;34m\u001b[0m\u001b[0m\n",
      "\u001b[0;32m/anaconda3/lib/python3.6/site-packages/pandas/io/parsers.py\u001b[0m in \u001b[0;36mparser_f\u001b[0;34m(filepath_or_buffer, sep, delimiter, header, names, index_col, usecols, squeeze, prefix, mangle_dupe_cols, dtype, engine, converters, true_values, false_values, skipinitialspace, skiprows, nrows, na_values, keep_default_na, na_filter, verbose, skip_blank_lines, parse_dates, infer_datetime_format, keep_date_col, date_parser, dayfirst, iterator, chunksize, compression, thousands, decimal, lineterminator, quotechar, quoting, escapechar, comment, encoding, dialect, tupleize_cols, error_bad_lines, warn_bad_lines, skipfooter, doublequote, delim_whitespace, low_memory, memory_map, float_precision)\u001b[0m\n\u001b[1;32m    676\u001b[0m                     skip_blank_lines=skip_blank_lines)\n\u001b[1;32m    677\u001b[0m \u001b[0;34m\u001b[0m\u001b[0m\n\u001b[0;32m--> 678\u001b[0;31m         \u001b[0;32mreturn\u001b[0m \u001b[0m_read\u001b[0m\u001b[0;34m(\u001b[0m\u001b[0mfilepath_or_buffer\u001b[0m\u001b[0;34m,\u001b[0m \u001b[0mkwds\u001b[0m\u001b[0;34m)\u001b[0m\u001b[0;34m\u001b[0m\u001b[0m\n\u001b[0m\u001b[1;32m    679\u001b[0m \u001b[0;34m\u001b[0m\u001b[0m\n\u001b[1;32m    680\u001b[0m     \u001b[0mparser_f\u001b[0m\u001b[0;34m.\u001b[0m\u001b[0m__name__\u001b[0m \u001b[0;34m=\u001b[0m \u001b[0mname\u001b[0m\u001b[0;34m\u001b[0m\u001b[0m\n",
      "\u001b[0;32m/anaconda3/lib/python3.6/site-packages/pandas/io/parsers.py\u001b[0m in \u001b[0;36m_read\u001b[0;34m(filepath_or_buffer, kwds)\u001b[0m\n\u001b[1;32m    444\u001b[0m \u001b[0;34m\u001b[0m\u001b[0m\n\u001b[1;32m    445\u001b[0m     \u001b[0;32mtry\u001b[0m\u001b[0;34m:\u001b[0m\u001b[0;34m\u001b[0m\u001b[0m\n\u001b[0;32m--> 446\u001b[0;31m         \u001b[0mdata\u001b[0m \u001b[0;34m=\u001b[0m \u001b[0mparser\u001b[0m\u001b[0;34m.\u001b[0m\u001b[0mread\u001b[0m\u001b[0;34m(\u001b[0m\u001b[0mnrows\u001b[0m\u001b[0;34m)\u001b[0m\u001b[0;34m\u001b[0m\u001b[0m\n\u001b[0m\u001b[1;32m    447\u001b[0m     \u001b[0;32mfinally\u001b[0m\u001b[0;34m:\u001b[0m\u001b[0;34m\u001b[0m\u001b[0m\n\u001b[1;32m    448\u001b[0m         \u001b[0mparser\u001b[0m\u001b[0;34m.\u001b[0m\u001b[0mclose\u001b[0m\u001b[0;34m(\u001b[0m\u001b[0;34m)\u001b[0m\u001b[0;34m\u001b[0m\u001b[0m\n",
      "\u001b[0;32m/anaconda3/lib/python3.6/site-packages/pandas/io/parsers.py\u001b[0m in \u001b[0;36mread\u001b[0;34m(self, nrows)\u001b[0m\n\u001b[1;32m   1034\u001b[0m                 \u001b[0;32mraise\u001b[0m \u001b[0mValueError\u001b[0m\u001b[0;34m(\u001b[0m\u001b[0;34m'skipfooter not supported for iteration'\u001b[0m\u001b[0;34m)\u001b[0m\u001b[0;34m\u001b[0m\u001b[0m\n\u001b[1;32m   1035\u001b[0m \u001b[0;34m\u001b[0m\u001b[0m\n\u001b[0;32m-> 1036\u001b[0;31m         \u001b[0mret\u001b[0m \u001b[0;34m=\u001b[0m \u001b[0mself\u001b[0m\u001b[0;34m.\u001b[0m\u001b[0m_engine\u001b[0m\u001b[0;34m.\u001b[0m\u001b[0mread\u001b[0m\u001b[0;34m(\u001b[0m\u001b[0mnrows\u001b[0m\u001b[0;34m)\u001b[0m\u001b[0;34m\u001b[0m\u001b[0m\n\u001b[0m\u001b[1;32m   1037\u001b[0m \u001b[0;34m\u001b[0m\u001b[0m\n\u001b[1;32m   1038\u001b[0m         \u001b[0;31m# May alter columns / col_dict\u001b[0m\u001b[0;34m\u001b[0m\u001b[0;34m\u001b[0m\u001b[0m\n",
      "\u001b[0;32m/anaconda3/lib/python3.6/site-packages/pandas/io/parsers.py\u001b[0m in \u001b[0;36mread\u001b[0;34m(self, nrows)\u001b[0m\n\u001b[1;32m   1846\u001b[0m     \u001b[0;32mdef\u001b[0m \u001b[0mread\u001b[0m\u001b[0;34m(\u001b[0m\u001b[0mself\u001b[0m\u001b[0;34m,\u001b[0m \u001b[0mnrows\u001b[0m\u001b[0;34m=\u001b[0m\u001b[0;32mNone\u001b[0m\u001b[0;34m)\u001b[0m\u001b[0;34m:\u001b[0m\u001b[0;34m\u001b[0m\u001b[0m\n\u001b[1;32m   1847\u001b[0m         \u001b[0;32mtry\u001b[0m\u001b[0;34m:\u001b[0m\u001b[0;34m\u001b[0m\u001b[0m\n\u001b[0;32m-> 1848\u001b[0;31m             \u001b[0mdata\u001b[0m \u001b[0;34m=\u001b[0m \u001b[0mself\u001b[0m\u001b[0;34m.\u001b[0m\u001b[0m_reader\u001b[0m\u001b[0;34m.\u001b[0m\u001b[0mread\u001b[0m\u001b[0;34m(\u001b[0m\u001b[0mnrows\u001b[0m\u001b[0;34m)\u001b[0m\u001b[0;34m\u001b[0m\u001b[0m\n\u001b[0m\u001b[1;32m   1849\u001b[0m         \u001b[0;32mexcept\u001b[0m \u001b[0mStopIteration\u001b[0m\u001b[0;34m:\u001b[0m\u001b[0;34m\u001b[0m\u001b[0m\n\u001b[1;32m   1850\u001b[0m             \u001b[0;32mif\u001b[0m \u001b[0mself\u001b[0m\u001b[0;34m.\u001b[0m\u001b[0m_first_chunk\u001b[0m\u001b[0;34m:\u001b[0m\u001b[0;34m\u001b[0m\u001b[0m\n",
      "\u001b[0;32mpandas/_libs/parsers.pyx\u001b[0m in \u001b[0;36mpandas._libs.parsers.TextReader.read\u001b[0;34m()\u001b[0m\n",
      "\u001b[0;32mpandas/_libs/parsers.pyx\u001b[0m in \u001b[0;36mpandas._libs.parsers.TextReader._read_rows\u001b[0;34m()\u001b[0m\n",
      "\u001b[0;32mpandas/_libs/parsers.pyx\u001b[0m in \u001b[0;36mpandas._libs.parsers.raise_parser_error\u001b[0;34m()\u001b[0m\n",
      "\u001b[0;31mParserError\u001b[0m: Error tokenizing data. C error: Expected 61 fields in line 6738, saw 66\n"
     ]
    }
   ],
   "source": [
    "for proposal in props_num:\n",
    "    make_logg_CM(campaign_str, int(proposal), 'logg_colored')"
   ]
  },
  {
   "cell_type": "code",
   "execution_count": null,
   "metadata": {},
   "outputs": [],
   "source": [
    "for proposal in props_num:\n",
    "    make_temp_CM(campaign_str, int(proposal), 'Teff_colored')"
   ]
  },
  {
   "cell_type": "code",
   "execution_count": 12,
   "metadata": {},
   "outputs": [],
   "source": [
    "campaign_str = 'campaign_2'\n",
    "\n",
    "#For each big proposal in the campaign, create a df so a color-magnitude plot\n",
    "#can be made for each big df_big_proposal\n",
    "\n",
    "big_prop_list = glob.glob('csv_files/%s/big_targets/*' %campaign_str)\n",
    "temp = [x[-8:-4] for x in big_prop_list]\n",
    "props_num = []\n",
    "for i in range(len(temp)):\n",
    "    try:\n",
    "        int(temp[i][0])\n",
    "        props_num.append(temp[i])\n",
    "    except:\n",
    "        pass"
   ]
  },
  {
   "cell_type": "code",
   "execution_count": 13,
   "metadata": {},
   "outputs": [
    {
     "name": "stdout",
     "output_type": "stream",
     "text": [
      "2020\n"
     ]
    },
    {
     "ename": "ParserError",
     "evalue": "Error tokenizing data. C error: Expected 61 fields in line 6738, saw 66\n",
     "output_type": "error",
     "traceback": [
      "\u001b[0;31m---------------------------------------------------------------------------\u001b[0m",
      "\u001b[0;31mParserError\u001b[0m                               Traceback (most recent call last)",
      "\u001b[0;32m<ipython-input-13-ec0d2a841b0a>\u001b[0m in \u001b[0;36m<module>\u001b[0;34m()\u001b[0m\n\u001b[1;32m      1\u001b[0m \u001b[0;32mfor\u001b[0m \u001b[0mproposal\u001b[0m \u001b[0;32min\u001b[0m \u001b[0mprops_num\u001b[0m\u001b[0;34m:\u001b[0m\u001b[0;34m\u001b[0m\u001b[0m\n\u001b[1;32m      2\u001b[0m     \u001b[0mprint\u001b[0m\u001b[0;34m(\u001b[0m\u001b[0mproposal\u001b[0m\u001b[0;34m)\u001b[0m\u001b[0;34m\u001b[0m\u001b[0m\n\u001b[0;32m----> 3\u001b[0;31m     \u001b[0mmake_logg_CM\u001b[0m\u001b[0;34m(\u001b[0m\u001b[0mcampaign_str\u001b[0m\u001b[0;34m,\u001b[0m \u001b[0mproposal\u001b[0m\u001b[0;34m,\u001b[0m \u001b[0;34m'logg_colored'\u001b[0m\u001b[0;34m)\u001b[0m\u001b[0;34m\u001b[0m\u001b[0m\n\u001b[0m",
      "\u001b[0;32m<ipython-input-8-25824ef6a296>\u001b[0m in \u001b[0;36mmake_logg_CM\u001b[0;34m(campaign, proposal, folder)\u001b[0m\n\u001b[1;32m      4\u001b[0m     \u001b[0mcampaign\u001b[0m \u001b[0;32mand\u001b[0m \u001b[0mfolder\u001b[0m \u001b[0mare\u001b[0m \u001b[0mstrings\u001b[0m\u001b[0;34m\u001b[0m\u001b[0m\n\u001b[1;32m      5\u001b[0m     \"\"\"\n\u001b[0;32m----> 6\u001b[0;31m     \u001b[0mdf_all\u001b[0m \u001b[0;34m=\u001b[0m \u001b[0mpd\u001b[0m\u001b[0;34m.\u001b[0m\u001b[0mread_csv\u001b[0m\u001b[0;34m(\u001b[0m\u001b[0;34m'csv_files/%s/master_search.csv'\u001b[0m \u001b[0;34m%\u001b[0m\u001b[0mcampaign\u001b[0m\u001b[0;34m,\u001b[0m \u001b[0mlow_memory\u001b[0m\u001b[0;34m=\u001b[0m\u001b[0;32mFalse\u001b[0m\u001b[0;34m)\u001b[0m\u001b[0;34m\u001b[0m\u001b[0m\n\u001b[0m\u001b[1;32m      7\u001b[0m \u001b[0;34m\u001b[0m\u001b[0m\n\u001b[1;32m      8\u001b[0m     \u001b[0mdf_big_proposal\u001b[0m \u001b[0;34m=\u001b[0m \u001b[0mpd\u001b[0m\u001b[0;34m.\u001b[0m\u001b[0mread_csv\u001b[0m\u001b[0;34m(\u001b[0m\u001b[0;34m'csv_files/%s/big_targets/prop_%d.csv'\u001b[0m \u001b[0;34m%\u001b[0m\u001b[0;34m(\u001b[0m\u001b[0mcampaign\u001b[0m\u001b[0;34m,\u001b[0m \u001b[0mproposal\u001b[0m\u001b[0;34m)\u001b[0m\u001b[0;34m,\u001b[0m \u001b[0mlow_memory\u001b[0m\u001b[0;34m=\u001b[0m\u001b[0;32mFalse\u001b[0m\u001b[0;34m,\u001b[0m \u001b[0merror_bad_lines\u001b[0m\u001b[0;34m=\u001b[0m\u001b[0;32mFalse\u001b[0m\u001b[0;34m)\u001b[0m\u001b[0;34m\u001b[0m\u001b[0m\n",
      "\u001b[0;32m/anaconda3/lib/python3.6/site-packages/pandas/io/parsers.py\u001b[0m in \u001b[0;36mparser_f\u001b[0;34m(filepath_or_buffer, sep, delimiter, header, names, index_col, usecols, squeeze, prefix, mangle_dupe_cols, dtype, engine, converters, true_values, false_values, skipinitialspace, skiprows, nrows, na_values, keep_default_na, na_filter, verbose, skip_blank_lines, parse_dates, infer_datetime_format, keep_date_col, date_parser, dayfirst, iterator, chunksize, compression, thousands, decimal, lineterminator, quotechar, quoting, escapechar, comment, encoding, dialect, tupleize_cols, error_bad_lines, warn_bad_lines, skipfooter, doublequote, delim_whitespace, low_memory, memory_map, float_precision)\u001b[0m\n\u001b[1;32m    676\u001b[0m                     skip_blank_lines=skip_blank_lines)\n\u001b[1;32m    677\u001b[0m \u001b[0;34m\u001b[0m\u001b[0m\n\u001b[0;32m--> 678\u001b[0;31m         \u001b[0;32mreturn\u001b[0m \u001b[0m_read\u001b[0m\u001b[0;34m(\u001b[0m\u001b[0mfilepath_or_buffer\u001b[0m\u001b[0;34m,\u001b[0m \u001b[0mkwds\u001b[0m\u001b[0;34m)\u001b[0m\u001b[0;34m\u001b[0m\u001b[0m\n\u001b[0m\u001b[1;32m    679\u001b[0m \u001b[0;34m\u001b[0m\u001b[0m\n\u001b[1;32m    680\u001b[0m     \u001b[0mparser_f\u001b[0m\u001b[0;34m.\u001b[0m\u001b[0m__name__\u001b[0m \u001b[0;34m=\u001b[0m \u001b[0mname\u001b[0m\u001b[0;34m\u001b[0m\u001b[0m\n",
      "\u001b[0;32m/anaconda3/lib/python3.6/site-packages/pandas/io/parsers.py\u001b[0m in \u001b[0;36m_read\u001b[0;34m(filepath_or_buffer, kwds)\u001b[0m\n\u001b[1;32m    444\u001b[0m \u001b[0;34m\u001b[0m\u001b[0m\n\u001b[1;32m    445\u001b[0m     \u001b[0;32mtry\u001b[0m\u001b[0;34m:\u001b[0m\u001b[0;34m\u001b[0m\u001b[0m\n\u001b[0;32m--> 446\u001b[0;31m         \u001b[0mdata\u001b[0m \u001b[0;34m=\u001b[0m \u001b[0mparser\u001b[0m\u001b[0;34m.\u001b[0m\u001b[0mread\u001b[0m\u001b[0;34m(\u001b[0m\u001b[0mnrows\u001b[0m\u001b[0;34m)\u001b[0m\u001b[0;34m\u001b[0m\u001b[0m\n\u001b[0m\u001b[1;32m    447\u001b[0m     \u001b[0;32mfinally\u001b[0m\u001b[0;34m:\u001b[0m\u001b[0;34m\u001b[0m\u001b[0m\n\u001b[1;32m    448\u001b[0m         \u001b[0mparser\u001b[0m\u001b[0;34m.\u001b[0m\u001b[0mclose\u001b[0m\u001b[0;34m(\u001b[0m\u001b[0;34m)\u001b[0m\u001b[0;34m\u001b[0m\u001b[0m\n",
      "\u001b[0;32m/anaconda3/lib/python3.6/site-packages/pandas/io/parsers.py\u001b[0m in \u001b[0;36mread\u001b[0;34m(self, nrows)\u001b[0m\n\u001b[1;32m   1034\u001b[0m                 \u001b[0;32mraise\u001b[0m \u001b[0mValueError\u001b[0m\u001b[0;34m(\u001b[0m\u001b[0;34m'skipfooter not supported for iteration'\u001b[0m\u001b[0;34m)\u001b[0m\u001b[0;34m\u001b[0m\u001b[0m\n\u001b[1;32m   1035\u001b[0m \u001b[0;34m\u001b[0m\u001b[0m\n\u001b[0;32m-> 1036\u001b[0;31m         \u001b[0mret\u001b[0m \u001b[0;34m=\u001b[0m \u001b[0mself\u001b[0m\u001b[0;34m.\u001b[0m\u001b[0m_engine\u001b[0m\u001b[0;34m.\u001b[0m\u001b[0mread\u001b[0m\u001b[0;34m(\u001b[0m\u001b[0mnrows\u001b[0m\u001b[0;34m)\u001b[0m\u001b[0;34m\u001b[0m\u001b[0m\n\u001b[0m\u001b[1;32m   1037\u001b[0m \u001b[0;34m\u001b[0m\u001b[0m\n\u001b[1;32m   1038\u001b[0m         \u001b[0;31m# May alter columns / col_dict\u001b[0m\u001b[0;34m\u001b[0m\u001b[0;34m\u001b[0m\u001b[0m\n",
      "\u001b[0;32m/anaconda3/lib/python3.6/site-packages/pandas/io/parsers.py\u001b[0m in \u001b[0;36mread\u001b[0;34m(self, nrows)\u001b[0m\n\u001b[1;32m   1846\u001b[0m     \u001b[0;32mdef\u001b[0m \u001b[0mread\u001b[0m\u001b[0;34m(\u001b[0m\u001b[0mself\u001b[0m\u001b[0;34m,\u001b[0m \u001b[0mnrows\u001b[0m\u001b[0;34m=\u001b[0m\u001b[0;32mNone\u001b[0m\u001b[0;34m)\u001b[0m\u001b[0;34m:\u001b[0m\u001b[0;34m\u001b[0m\u001b[0m\n\u001b[1;32m   1847\u001b[0m         \u001b[0;32mtry\u001b[0m\u001b[0;34m:\u001b[0m\u001b[0;34m\u001b[0m\u001b[0m\n\u001b[0;32m-> 1848\u001b[0;31m             \u001b[0mdata\u001b[0m \u001b[0;34m=\u001b[0m \u001b[0mself\u001b[0m\u001b[0;34m.\u001b[0m\u001b[0m_reader\u001b[0m\u001b[0;34m.\u001b[0m\u001b[0mread\u001b[0m\u001b[0;34m(\u001b[0m\u001b[0mnrows\u001b[0m\u001b[0;34m)\u001b[0m\u001b[0;34m\u001b[0m\u001b[0m\n\u001b[0m\u001b[1;32m   1849\u001b[0m         \u001b[0;32mexcept\u001b[0m \u001b[0mStopIteration\u001b[0m\u001b[0;34m:\u001b[0m\u001b[0;34m\u001b[0m\u001b[0m\n\u001b[1;32m   1850\u001b[0m             \u001b[0;32mif\u001b[0m \u001b[0mself\u001b[0m\u001b[0;34m.\u001b[0m\u001b[0m_first_chunk\u001b[0m\u001b[0;34m:\u001b[0m\u001b[0;34m\u001b[0m\u001b[0m\n",
      "\u001b[0;32mpandas/_libs/parsers.pyx\u001b[0m in \u001b[0;36mpandas._libs.parsers.TextReader.read\u001b[0;34m()\u001b[0m\n",
      "\u001b[0;32mpandas/_libs/parsers.pyx\u001b[0m in \u001b[0;36mpandas._libs.parsers.TextReader._read_rows\u001b[0;34m()\u001b[0m\n",
      "\u001b[0;32mpandas/_libs/parsers.pyx\u001b[0m in \u001b[0;36mpandas._libs.parsers.raise_parser_error\u001b[0;34m()\u001b[0m\n",
      "\u001b[0;31mParserError\u001b[0m: Error tokenizing data. C error: Expected 61 fields in line 6738, saw 66\n"
     ]
    }
   ],
   "source": [
    "for proposal in props_num:\n",
    "    print(proposal)\n",
    "    make_logg_CM(campaign_str, proposal, 'logg_colored')"
   ]
  },
  {
   "cell_type": "code",
   "execution_count": null,
   "metadata": {},
   "outputs": [],
   "source": []
  }
 ],
 "metadata": {
  "kernelspec": {
   "display_name": "Python 3",
   "language": "python",
   "name": "python3"
  },
  "language_info": {
   "codemirror_mode": {
    "name": "ipython",
    "version": 3
   },
   "file_extension": ".py",
   "mimetype": "text/x-python",
   "name": "python",
   "nbconvert_exporter": "python",
   "pygments_lexer": "ipython3",
   "version": "3.6.5"
  }
 },
 "nbformat": 4,
 "nbformat_minor": 2
}
